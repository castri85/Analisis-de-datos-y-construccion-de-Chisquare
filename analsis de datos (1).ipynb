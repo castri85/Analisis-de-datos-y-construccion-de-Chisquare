{
 "cells": [
  {
   "cell_type": "markdown",
   "metadata": {},
   "source": [
    "proyecto de programación"
   ]
  },
  {
   "cell_type": "code",
   "execution_count": 1,
   "metadata": {},
   "outputs": [],
   "source": [
    "import matplotlib.pyplot as plt\n",
    "import matplotlib as mpl\n",
    "import numpy as np\n",
    "from random import*\n",
    "\n",
    "    "
   ]
  },
  {
   "cell_type": "code",
   "execution_count": 2,
   "metadata": {},
   "outputs": [],
   "source": [
    "%matplotlib qt\n",
    "with open('data.txt', 'r') as data: \n",
    "    data = [i.split(\",\") for i in data]\n",
    "Datos_t=[];Datos_t2=[];Datos_t3=[]\n",
    "Datos_x=[]\n",
    "Datos_y=[]\n",
    "for elemento in data:\n",
    "    for j in range(len(elemento)):\n",
    "        elemento[j]=float(elemento[j])\n",
    "    Datos_t.append(elemento[0])\n",
    "    Datos_x.append(elemento[1])\n",
    "    Datos_y.append(elemento[2])\n",
    "Datos_t2=np.zeros((1,len(Datos_t)))\n",
    "for i in range(len(Datos_t)):\n",
    "    Datos_t2[0][i]=Datos_t[i]\n",
    "Datos_t=np.array(Datos_t)\n",
    "\n",
    "    "
   ]
  },
  {
   "cell_type": "code",
   "execution_count": 3,
   "metadata": {},
   "outputs": [],
   "source": [
    "#Función propuesta como base de ajuste en ase al compartamiento ondulatorio de los datos\n",
    "def fun(x,phi,Amp0,Amp1,W,W2):\n",
    "    return Amp0*np.cos(W*x)+Amp1*np.cos(W2*x+phi)"
   ]
  },
  {
   "cell_type": "code",
   "execution_count": 27,
   "metadata": {},
   "outputs": [],
   "source": [
    " def Chisquare(Datos_t,Datos_x,f): \n",
    "    #Constantes del sistema\n",
    "    N=len(Datos_t)\n",
    "    #Limites de los valores en los cuales vamos a buscar las constantes\n",
    "    a=0;b=2*np.pi;c=1;d=2;c2=0.5;d2=2.5;e=50;f=60\n",
    "    resul=[];k=[];tt=0\n",
    "    while  tt<13:\n",
    "        W=uniform(50,60)\n",
    "        tt1=0\n",
    "        while  tt1<13:\n",
    "            tt2=0\n",
    "            W2=uniform(0,2)\n",
    "            while  tt2<13:\n",
    "                phi=uniform(a,b*np.pi)\n",
    "                suma=0\n",
    "                Amp0=uniform(c,d)\n",
    "                for i in range(N):\n",
    "                    Amp1=uniform(c2,d2)\n",
    "                    suma+=((Datos_x[i]-fun(Datos_t[i],phi,Amp0,Amp1,W,W2))**2)/fun(Datos_t[i],phi,Amp0,Amp1,W,W2)\n",
    "                resul.append(suma)\n",
    "                minimo=10\n",
    "                for i in range(len(resul)):\n",
    "                    if  minimo>abs(resul[i]):\n",
    "                        k=[phi,Amp0,Amp1,W,W2]\n",
    "                        minimo=resul[i]\n",
    "                        \n",
    "                    else: \n",
    "                        del(resul[i])\n",
    "    \n",
    "    \n",
    "                tt2+=1\n",
    "            tt1+=1\n",
    "        tt+=1\n",
    "    print(k,minimo)\n",
    "    return k"
   ]
  },
  {
   "cell_type": "code",
   "execution_count": 28,
   "metadata": {},
   "outputs": [
    {
     "name": "stdout",
     "output_type": "stream",
     "text": [
      "[10.903249711994727, 1.8739929709749858, 0.6972170887379256, 59.16289739178257, 0.021424290135908075] 1.8880077137766387\n",
      "[] 10\n"
     ]
    }
   ],
   "source": [
    "#Obtención de constantes de ajuste\n",
    "k1=Chisquare(Datos_t,Datos_x,fun)"
   ]
  },
  {
   "cell_type": "code",
   "execution_count": 29,
   "metadata": {},
   "outputs": [
    {
     "data": {
      "text/plain": [
       "<matplotlib.legend.Legend at 0x1b821d21c88>"
      ]
     },
     "execution_count": 29,
     "metadata": {},
     "output_type": "execute_result"
    }
   ],
   "source": [
    "#Graficación\n",
    "x__=np.linspace(0,6,len(Datos_t))\n",
    "plt.figure(1)\n",
    "plt.plot(Datos_t,fun(x__,k1[0],k1[1],k1[2],k1[3],k1[4]),label=\"datos ajustados\")\n",
    "plt.plot(Datos_t,Datos_x,label=\"Datos reales x vs t\")\n",
    "plt.xlabel(\"Datos_t\")\n",
    "plt.ylabel(\"Datos_x\")\n",
    "plt.title(\"Datos ajustados con armonicos vs reales\")\n",
    "plt.legend()\n"
   ]
  },
  {
   "cell_type": "code",
   "execution_count": 119,
   "metadata": {},
   "outputs": [
    {
     "name": "stderr",
     "output_type": "stream",
     "text": [
      "No handles with labels found to put in legend.\n"
     ]
    },
    {
     "data": {
      "text/plain": [
       "<matplotlib.legend.Legend at 0x1b8526b2e08>"
      ]
     },
     "execution_count": 119,
     "metadata": {},
     "output_type": "execute_result"
    }
   ],
   "source": [
    "#Correlación entre variables\n",
    "def R(x,y,n):\n",
    "    sumaxy=0;sumax2=0;sumay2=0\n",
    "    for i in range(n):\n",
    "        sumaxy+=x[i]*y[i]\n",
    "        sumax2+=x[i]**2\n",
    "        sumay2+=y[i]**2\n",
    "    result=(n*sumaxy-sum(x)*sum(y))/((n*sumax2-sum(x)**2)*(n*sumay2-sum(y)**2))**0.5\n",
    "    return result\n",
    "R(Datos_x,Datos_y,len(Datos_x))\n",
    "plt.plot(Datos_x,Datos_y)\n",
    "plt.title(\"Datos_X vs Datyos_y\")\n",
    "plt.xlabel(\"Datos en x\")\n",
    "plt.ylabel(\"Datos en y\")\n",
    "plt.legend()"
   ]
  },
  {
   "cell_type": "code",
   "execution_count": 120,
   "metadata": {},
   "outputs": [
    {
     "name": "stderr",
     "output_type": "stream",
     "text": [
      "C:\\Users\\Dell\\anaconda3\\lib\\site-packages\\ipykernel_launcher.py:11: RuntimeWarning: invalid value encountered in log\n",
      "  # This is added back by InteractiveShellApp.init_path()\n",
      "No handles with labels found to put in legend.\n"
     ]
    },
    {
     "data": {
      "text/plain": [
       "<matplotlib.legend.Legend at 0x1b853c9cf48>"
      ]
     },
     "execution_count": 120,
     "metadata": {},
     "output_type": "execute_result"
    }
   ],
   "source": [
    "#Correlación entre variables\n",
    "def R(x,y,n):\n",
    "    sumaxy=0;sumax2=0;sumay2=0\n",
    "    for i in range(n):\n",
    "        sumaxy+=x[i]*y[i]\n",
    "        sumax2+=x[i]**2\n",
    "        sumay2+=y[i]**2\n",
    "    result=(n*sumaxy-sum(x)*sum(y))/((n*sumax2-sum(x)**2)*(n*sumay2-sum(y)**2))**0.5\n",
    "    return result\n",
    "R(Datos_x,Datos_y,len(Datos_x))\n",
    "plt.plot(np.log(Datos_x),np.log(Datos_y))\n",
    "plt.title(\"Datos_X vs Datyos_y\")\n",
    "plt.xlabel(\"Datos en x\")\n",
    "plt.ylabel(\"Datos en y\")\n",
    "plt.legend()"
   ]
  },
  {
   "cell_type": "code",
   "execution_count": 31,
   "metadata": {},
   "outputs": [],
   "source": [
    "def fun2(x,phi,Amp0,Amp1,W,W2):\n",
    "    return Amp0*np.sin(W*x)+Amp1*np.sin(W2*x+phi)"
   ]
  },
  {
   "cell_type": "code",
   "execution_count": 33,
   "metadata": {},
   "outputs": [
    {
     "name": "stdout",
     "output_type": "stream",
     "text": [
      "[2.6439688613327292, 1.1349762537491022, 1.7322848978745495, 50.15657896531639, 1.2292681952886828] 2.39895067650612\n"
     ]
    }
   ],
   "source": [
    "k2=Chisquare(Datos_t,Datos_y,fun2)"
   ]
  },
  {
   "cell_type": "code",
   "execution_count": 99,
   "metadata": {},
   "outputs": [
    {
     "data": {
      "text/plain": [
       "<matplotlib.legend.Legend at 0x1b8487c2f48>"
      ]
     },
     "execution_count": 99,
     "metadata": {},
     "output_type": "execute_result"
    }
   ],
   "source": [
    "y__=np.linspace(0,6,len(Datos_t))\n",
    "plt.figure(1)\n",
    "plt.grid()\n",
    "plt.plot(Datos_t,fun2(y__,k2[0]+(np.pi/2),(1.5)*k2[1],k2[2],k2[3],(2.1)*k2[4]),label=\"datos ajustados\")\n",
    "plt.plot(Datos_t,Datos_y,label=\"Datos reales y(t)\")\n",
    "plt.xlabel(\"Datos_t\")\n",
    "plt.ylabel(\"Datos_y\")\n",
    "plt.title(\"Datos ajustados con armónicos vs reales\")\n",
    "plt.legend()"
   ]
  },
  {
   "cell_type": "code",
   "execution_count": 100,
   "metadata": {},
   "outputs": [],
   "source": [
    "k3=[k2[0]+(np.pi/2),(1.5)*k2[1],k2[2],k2[3],(2.1)*k2[4]]"
   ]
  },
  {
   "cell_type": "code",
   "execution_count": 101,
   "metadata": {},
   "outputs": [
    {
     "data": {
      "text/plain": [
       "[4.214765188127625,\n",
       " 1.7024643806236532,\n",
       " 1.7322848978745495,\n",
       " 50.15657896531639,\n",
       " 2.581463210106234]"
      ]
     },
     "execution_count": 101,
     "metadata": {},
     "output_type": "execute_result"
    }
   ],
   "source": [
    "k3"
   ]
  },
  {
   "cell_type": "code",
   "execution_count": 118,
   "metadata": {},
   "outputs": [
    {
     "data": {
      "text/plain": [
       "<matplotlib.legend.Legend at 0x1b851eeddc8>"
      ]
     },
     "execution_count": 118,
     "metadata": {},
     "output_type": "execute_result"
    }
   ],
   "source": [
    "y__=np.linspace(0,6,len(Datos_t))\n",
    "plt.figure(1)\n",
    "plt.grid()\n",
    "plt.plot(Datos_t,fun2(y__,k3[0],k3[1],k3[2],k3[3],k3[4]),label=\"datos ajustados\")\n",
    "plt.plot(Datos_t,Datos_y,label=\"Datos reales y(t)\")\n",
    "plt.xlabel(\"Datos_t\")\n",
    "plt.ylabel(\"Datos_y\")\n",
    "plt.title(\"Datos ajustados con armónicos vs reales\")\n",
    "plt.legend()"
   ]
  },
  {
   "cell_type": "code",
   "execution_count": 117,
   "metadata": {},
   "outputs": [
    {
     "data": {
      "text/plain": [
       "Text(0, 0.5, 'Datos_x')"
      ]
     },
     "execution_count": 117,
     "metadata": {},
     "output_type": "execute_result"
    }
   ],
   "source": [
    "plt.plot(Datos_t,Datos_x,label=\"Datos reales x vs t\")\n",
    "plt.grid()\n",
    "plt.figure(1)\n",
    "plt.xlabel(\"Datos_t\")\n",
    "plt.ylabel(\"Datos_x\")"
   ]
  },
  {
   "cell_type": "code",
   "execution_count": null,
   "metadata": {},
   "outputs": [],
   "source": []
  }
 ],
 "metadata": {
  "kernelspec": {
   "display_name": "Python 3",
   "language": "python",
   "name": "python3"
  },
  "language_info": {
   "codemirror_mode": {
    "name": "ipython",
    "version": 3
   },
   "file_extension": ".py",
   "mimetype": "text/x-python",
   "name": "python",
   "nbconvert_exporter": "python",
   "pygments_lexer": "ipython3",
   "version": "3.7.6"
  }
 },
 "nbformat": 4,
 "nbformat_minor": 2
}
